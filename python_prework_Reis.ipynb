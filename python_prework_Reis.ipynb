{
  "nbformat": 4,
  "nbformat_minor": 0,
  "metadata": {
    "colab": {
      "name": "python_prework.ipynb",
      "provenance": [],
      "collapsed_sections": [],
      "include_colab_link": true
    },
    "kernelspec": {
      "name": "python3",
      "display_name": "Python 3"
    }
  },
  "cells": [
    {
      "cell_type": "markdown",
      "metadata": {
        "id": "view-in-github",
        "colab_type": "text"
      },
      "source": [
        "<a href=\"https://colab.research.google.com/github/kath-k3/Jupyter-projects/blob/master/python_prework_Reis.ipynb\" target=\"_parent\"><img src=\"https://colab.research.google.com/assets/colab-badge.svg\" alt=\"Open In Colab\"/></a>"
      ]
    },
    {
      "cell_type": "markdown",
      "metadata": {
        "id": "WJ0TGPCOQbto",
        "colab_type": "text"
      },
      "source": [
        "# My pre-work: Python exercises\n",
        "\n",
        "It is mandatory to have completed a course of intro to Python before starting the pre-work and the Data Science course. Notice that basic programming concepts will not be explained during the course. \n",
        "\n",
        "In the case that you did not, we recommend you this [Intro to Python](https://www.codecademy.com/learn/learn-python-3) course. It takes 25 hours and it has an intuitive interface to complete the exercises.\n",
        "\n",
        "Once you complete it and only then, you can start your pre-work! We will start with basic Python programming questions."
      ]
    },
    {
      "cell_type": "code",
      "metadata": {
        "id": "2hGxKKy6bVZx",
        "colab_type": "code",
        "colab": {}
      },
      "source": [
        "import numpy as np"
      ],
      "execution_count": 0,
      "outputs": []
    },
    {
      "cell_type": "markdown",
      "metadata": {
        "id": "El1bo-rZVovT",
        "colab_type": "text"
      },
      "source": [
        "### Exercise 1. What is the average income that my shop has done per visit every day?"
      ]
    },
    {
      "cell_type": "code",
      "metadata": {
        "id": "oh7Qs3IJQdYn",
        "colab_type": "code",
        "colab": {}
      },
      "source": [
        "# Input of total visits and income per day in my shop\n",
        "visits = [6,1,3,1,9,3,2,1,5]\n",
        "income_euro = [43,7,23,11,1,34,324,55,45]"
      ],
      "execution_count": 0,
      "outputs": []
    },
    {
      "cell_type": "code",
      "metadata": {
        "id": "PcD8LCwzQdfN",
        "colab_type": "code",
        "colab": {}
      },
      "source": [
        "# Use 1 for loop to calculate a list with the values of the income per visit for each day\n",
        "# Output: income_visit = [7.1,7.0,7.6,11.0,0.1,11.3,162.0,55.0,9.0]"
      ],
      "execution_count": 0,
      "outputs": []
    },
    {
      "cell_type": "markdown",
      "metadata": {
        "id": "HIoiwBV0dOme",
        "colab_type": "text"
      },
      "source": [
        "### Exercise 2. Build a dictionary with the article names and their prices. Once you have it, update the price for jeans to 54.99 euros."
      ]
    },
    {
      "cell_type": "code",
      "metadata": {
        "id": "3tHskblqdPBV",
        "colab_type": "code",
        "colab": {}
      },
      "source": [
        "# These are the list of each item and its price. The items and prices are ordered.\n",
        "items = ['t-shirt', 'shorts', 'blazer', 'jeans', 'jacket', 'glasses']\n",
        "prices = [8.99, 24.95, 84.95, 69.99, 49.95, 299]"
      ],
      "execution_count": 0,
      "outputs": []
    },
    {
      "cell_type": "code",
      "metadata": {
        "id": "ipbX6QRsdPGt",
        "colab_type": "code",
        "colab": {}
      },
      "source": [
        "# Build a dictionary from the two lists"
      ],
      "execution_count": 0,
      "outputs": []
    },
    {
      "cell_type": "code",
      "metadata": {
        "id": "yGylWQzOiFSX",
        "colab_type": "code",
        "colab": {}
      },
      "source": [
        "# Update the value of the price for the key 'jeans'"
      ],
      "execution_count": 0,
      "outputs": []
    },
    {
      "cell_type": "markdown",
      "metadata": {
        "id": "FP6a8v7vaK0J",
        "colab_type": "text"
      },
      "source": [
        "### Exercise 3. Create a function called \"random_generator\" that generates a list of random integers between zero and a given maximum and with the given size. The function should have two arguments: \"max_value\" and \"size\". Once you have the function ready, use it to get a list of integeres up to 100 of 30 elements."
      ]
    },
    {
      "cell_type": "code",
      "metadata": {
        "id": "05FYSXJkQdjW",
        "colab_type": "code",
        "colab": {}
      },
      "source": [
        "# Use numpy to generate a list of random integers with values up to 100 and with a lenght of 30."
      ],
      "execution_count": 0,
      "outputs": []
    },
    {
      "cell_type": "code",
      "metadata": {
        "id": "WfLPWKDPQdqp",
        "colab_type": "code",
        "colab": {}
      },
      "source": [
        "# Once you find the way, write the function as described to calculate it for any arguments."
      ],
      "execution_count": 0,
      "outputs": []
    },
    {
      "cell_type": "code",
      "metadata": {
        "id": "fYvCGxsBc89X",
        "colab_type": "code",
        "colab": {}
      },
      "source": [
        "# Call the function to get the list of random integers with values up to 100 and length 30."
      ],
      "execution_count": 0,
      "outputs": []
    }
  ]
}