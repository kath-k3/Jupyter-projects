{
 "cells": [
  {
   "cell_type": "code",
   "execution_count": 1,
   "metadata": {},
   "outputs": [],
   "source": [
    "import numpy as np"
   ]
  },
  {
   "cell_type": "code",
   "execution_count": 2,
   "metadata": {},
   "outputs": [],
   "source": [
    "# Input of total visits and income per day in my shop\n",
    "visits = [6,1,3,1,9,3,2,1,5]\n",
    "income_euro = [43,7,23,11,1,34,324,55,45]"
   ]
  },
  {
   "cell_type": "code",
   "execution_count": 3,
   "metadata": {},
   "outputs": [],
   "source": [
    "# Use 1 for loop to calculate a list with the values of the income per visit for each day\n",
    "# Output: income_visit = [7.1,7.0,7.6,11.0,0.1,11.3,162.0,55.0,9.0]"
   ]
  },
  {
   "cell_type": "code",
   "execution_count": 62,
   "metadata": {},
   "outputs": [
    {
     "name": "stdout",
     "output_type": "stream",
     "text": [
      "['7.2', '7.0', '7.7', '11.0', '0.1', '11.3', '162.0', '55.0', '9.0']\n"
     ]
    }
   ],
   "source": [
    "income_visit = []\n",
    "for item in income_euro:\n",
    "    index = income_euro.index(item)\n",
    "    income_visit.append(\"{0:.1f}\".format(item/(visits[index])))\n",
    "    if index == len(income_euro) - 1:\n",
    "        print(income_visit)"
   ]
  },
  {
   "cell_type": "code",
   "execution_count": 63,
   "metadata": {},
   "outputs": [],
   "source": [
    "# These are the list of each item and its price. The items and prices are ordered.\n",
    "items = ['t-shirt', 'shorts', 'blazer', 'jeans', 'jacket', 'glasses']\n",
    "prices = [8.99, 24.95, 84.95, 69.99, 49.95, 299]\n"
   ]
  },
  {
   "cell_type": "code",
   "execution_count": 64,
   "metadata": {},
   "outputs": [
    {
     "name": "stdout",
     "output_type": "stream",
     "text": [
      "{'t-shirt': 8.99, 'shorts': 24.95, 'blazer': 84.95, 'jeans': 69.99, 'jacket': 49.95, 'glasses': 299}\n"
     ]
    }
   ],
   "source": [
    "my_dict = dict(zip(items, prices))\n",
    "print(my_dict)\n"
   ]
  },
  {
   "cell_type": "code",
   "execution_count": 69,
   "metadata": {},
   "outputs": [],
   "source": [
    "#Exercise 2. Build a dictionary with the article names and their prices.\n",
    "# Once you have it, update the price for jeans to 54.99 euros.\n",
    "\n",
    "my_dict['jeans'] = 54.99"
   ]
  },
  {
   "cell_type": "code",
   "execution_count": 65,
   "metadata": {},
   "outputs": [],
   "source": [
    "#Exercise 3. Create a function called \"random_generator\" that generates a list of random integers\n",
    "#between zero and a given maximum and with the given size. The function should have two arguments:\n",
    "    #\"max_value\" and \"size\". Once you have the function ready, use it to get a list of integeres\n",
    "    #up to 100 of 30 elements."
   ]
  },
  {
   "cell_type": "code",
   "execution_count": 66,
   "metadata": {},
   "outputs": [],
   "source": [
    "# Use numpy to generate a list of random integers with values up to 100 and with a lenght of 30.\n",
    "import random\n",
    "def random_generator():\n",
    "    my_randoms = random.sample(range(100), 30)\n",
    "    return my_randoms"
   ]
  },
  {
   "cell_type": "code",
   "execution_count": 67,
   "metadata": {},
   "outputs": [
    {
     "name": "stdout",
     "output_type": "stream",
     "text": [
      "[80, 13, 12, 76, 72, 2, 69, 52, 91, 75, 11, 32, 41, 23, 60, 17, 3, 78, 28, 97, 36, 87, 6, 42, 10, 64, 77, 1, 26, 94]\n"
     ]
    }
   ],
   "source": [
    "# Once you find the way, write the function as described to calculate it for any arguments.\n",
    "def random_generator_any(n, m):\n",
    "    my_randoms = random.sample(range(n), m)\n",
    "    return my_randoms\n",
    "print(random_generator_any(100, 30))"
   ]
  },
  {
   "cell_type": "code",
   "execution_count": 68,
   "metadata": {},
   "outputs": [
    {
     "name": "stdout",
     "output_type": "stream",
     "text": [
      "[98, 75, 87, 20, 5, 96, 82, 38, 11, 55, 77, 24, 95, 74, 0, 12, 84, 73, 72, 26, 90, 31, 93, 62, 3, 15, 83, 41, 48, 37]\n"
     ]
    }
   ],
   "source": [
    "# Call the function to get the list of random integers with values up to 100 and length 30.\n",
    "print(random_generator_any(100, 30))"
   ]
  },
  {
   "cell_type": "code",
   "execution_count": null,
   "metadata": {},
   "outputs": [],
   "source": []
  }
 ],
 "metadata": {
  "kernelspec": {
   "display_name": "Python 3",
   "language": "python",
   "name": "python3"
  },
  "language_info": {
   "codemirror_mode": {
    "name": "ipython",
    "version": 3
   },
   "file_extension": ".py",
   "mimetype": "text/x-python",
   "name": "python",
   "nbconvert_exporter": "python",
   "pygments_lexer": "ipython3",
   "version": "3.7.4"
  }
 },
 "nbformat": 4,
 "nbformat_minor": 2
}
