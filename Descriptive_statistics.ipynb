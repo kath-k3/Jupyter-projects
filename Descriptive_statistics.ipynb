{
 "cells": [
  {
   "cell_type": "code",
   "execution_count": 1,
   "metadata": {},
   "outputs": [],
   "source": [
    "import numpy as np\n"
   ]
  },
  {
   "cell_type": "code",
   "execution_count": 3,
   "metadata": {},
   "outputs": [
    {
     "name": "stdout",
     "output_type": "stream",
     "text": [
      "Collecting pandas\n",
      "\u001b[?25l  Downloading https://files.pythonhosted.org/packages/16/b5/bab3477466a4d9e705d40829ac65683155e7977acbc07f05b06fabded1be/pandas-0.25.3-cp37-cp37m-macosx_10_9_x86_64.whl (10.2MB)\n",
      "\u001b[K     |████████████████████████████████| 10.2MB 6.1MB/s eta 0:00:01\n",
      "\u001b[?25hRequirement already satisfied: numpy>=1.13.3 in /usr/local/lib/python3.7/site-packages (from pandas) (1.17.1)\n",
      "Collecting pytz>=2017.2 (from pandas)\n",
      "  Using cached https://files.pythonhosted.org/packages/e7/f9/f0b53f88060247251bf481fa6ea62cd0d25bf1b11a87888e53ce5b7c8ad2/pytz-2019.3-py2.py3-none-any.whl\n",
      "Requirement already satisfied: python-dateutil>=2.6.1 in /usr/local/lib/python3.7/site-packages (from pandas) (2.8.0)\n",
      "Requirement already satisfied: six>=1.5 in /usr/local/lib/python3.7/site-packages (from python-dateutil>=2.6.1->pandas) (1.12.0)\n",
      "Installing collected packages: pytz, pandas\n",
      "Successfully installed pandas-0.25.3 pytz-2019.3\n"
     ]
    }
   ],
   "source": [
    "!pip install pandas\n",
    "\n",
    "import pandas as pd\n"
   ]
  },
  {
   "cell_type": "code",
   "execution_count": 4,
   "metadata": {},
   "outputs": [],
   "source": [
    "import matplotlib.pyplot as plt\n"
   ]
  },
  {
   "cell_type": "code",
   "execution_count": 6,
   "metadata": {},
   "outputs": [
    {
     "name": "stdout",
     "output_type": "stream",
     "text": [
      "Collecting seaborn\n",
      "\u001b[?25l  Downloading https://files.pythonhosted.org/packages/a8/76/220ba4420459d9c4c9c9587c6ce607bf56c25b3d3d2de62056efe482dadc/seaborn-0.9.0-py3-none-any.whl (208kB)\n",
      "\u001b[K     |████████████████████████████████| 215kB 2.6MB/s eta 0:00:01\n",
      "\u001b[?25hRequirement already satisfied: numpy>=1.9.3 in /usr/local/lib/python3.7/site-packages (from seaborn) (1.17.1)\n",
      "Requirement already satisfied: pandas>=0.15.2 in /usr/local/lib/python3.7/site-packages (from seaborn) (0.25.3)\n",
      "Collecting scipy>=0.14.0 (from seaborn)\n",
      "\u001b[?25l  Downloading https://files.pythonhosted.org/packages/c8/40/c7d54f604f41656be3eb8b8bd7d073050e3da08b5b0d32bba8c8c7023210/scipy-1.3.2-cp37-cp37m-macosx_10_6_intel.whl (27.7MB)\n",
      "\u001b[K     |████████████████████████████████| 27.7MB 14.1MB/s eta 0:00:01\n",
      "\u001b[?25hRequirement already satisfied: matplotlib>=1.4.3 in /usr/local/lib/python3.7/site-packages (from seaborn) (3.1.1)\n",
      "Requirement already satisfied: python-dateutil>=2.6.1 in /usr/local/lib/python3.7/site-packages (from pandas>=0.15.2->seaborn) (2.8.0)\n",
      "Requirement already satisfied: pytz>=2017.2 in /usr/local/lib/python3.7/site-packages (from pandas>=0.15.2->seaborn) (2019.3)\n",
      "Requirement already satisfied: pyparsing!=2.0.4,!=2.1.2,!=2.1.6,>=2.0.1 in /usr/local/lib/python3.7/site-packages (from matplotlib>=1.4.3->seaborn) (2.4.2)\n",
      "Requirement already satisfied: kiwisolver>=1.0.1 in /usr/local/lib/python3.7/site-packages (from matplotlib>=1.4.3->seaborn) (1.1.0)\n",
      "Requirement already satisfied: cycler>=0.10 in /usr/local/lib/python3.7/site-packages (from matplotlib>=1.4.3->seaborn) (0.10.0)\n",
      "Requirement already satisfied: six>=1.5 in /usr/local/lib/python3.7/site-packages (from python-dateutil>=2.6.1->pandas>=0.15.2->seaborn) (1.12.0)\n",
      "Requirement already satisfied: setuptools in /usr/local/lib/python3.7/site-packages (from kiwisolver>=1.0.1->matplotlib>=1.4.3->seaborn) (41.0.1)\n",
      "Installing collected packages: scipy, seaborn\n",
      "Successfully installed scipy-1.3.2 seaborn-0.9.0\n"
     ]
    }
   ],
   "source": [
    "!pip install seaborn\n",
    "import seaborn as sns"
   ]
  },
  {
   "cell_type": "code",
   "execution_count": 16,
   "metadata": {},
   "outputs": [],
   "source": [
    "def get_datasets():\n",
    "  # Load the csv files from the source in the Barcelona Open Portal\n",
    "  url_2015 = \"https://opendata-ajuntament.barcelona.cat/data/dataset/79bdf758-dae1-485b-800c-be9f8cfa9360/resource/bb4de997-cdf9-43ad-98c6-cc3a3e4d4f07/download/2015_distribucio_territorial_renda_familiar.csv\"\n",
    "  url_2016 = \"https://opendata-ajuntament.barcelona.cat/data/dataset/79bdf758-dae1-485b-800c-be9f8cfa9360/resource/1d9ff171-6f23-45c1-b02f-203b0589f08a/download/2016_distribucio_territorial_renda_familiar.csv\"\n",
    "  data_2015 = pd.read_csv(url_2015)\n",
    "  data_2016 = pd.read_csv(url_2016)\n",
    "\n",
    "# Extract input lists for the analysis \n",
    "  inhabitants_per_neihborhood_15 = data_2015['Població'].tolist()\n",
    "  inhabitants_per_district_15 = data_2015[['Nom_Districte', 'Població']].groupby(['Nom_Districte'], as_index=False).sum()['Població']\n",
    "  inhabitants_per_neihborhood_16 = data_2016['Població'].tolist()\n",
    "  inhabitants_per_district_16 = data_2016[['Nom_Districte', 'Població']].groupby(['Nom_Districte'], as_index=False).sum()['Població']\n",
    "  \n",
    "  return inhabitants_per_neihborhood_15, inhabitants_per_neihborhood_16, inhabitants_per_district_15, inhabitants_per_district_16"
   ]
  },
  {
   "cell_type": "code",
   "execution_count": 17,
   "metadata": {},
   "outputs": [],
   "source": [
    "inhabitants_per_neihborhood_15, inhabitants_per_neihborhood_16, inhabitants_per_district_15, inhabitants_per_district_16 = get_datasets()"
   ]
  },
  {
   "cell_type": "code",
   "execution_count": 19,
   "metadata": {},
   "outputs": [],
   "source": [
    "#Exercise 1. What is the difference between the average number of inhabitants per neighborhood in Barcelona \n",
    "#between 2015 and 2016? What about the difference between the average of each year when considesidering \n",
    "#the population per district?"
   ]
  },
  {
   "cell_type": "code",
   "execution_count": 44,
   "metadata": {},
   "outputs": [
    {
     "data": {
      "text/html": [
       "<div>\n",
       "<style scoped>\n",
       "    .dataframe tbody tr th:only-of-type {\n",
       "        vertical-align: middle;\n",
       "    }\n",
       "\n",
       "    .dataframe tbody tr th {\n",
       "        vertical-align: top;\n",
       "    }\n",
       "\n",
       "    .dataframe thead th {\n",
       "        text-align: right;\n",
       "    }\n",
       "</style>\n",
       "<table border=\"1\" class=\"dataframe\">\n",
       "  <thead>\n",
       "    <tr style=\"text-align: right;\">\n",
       "      <th></th>\n",
       "      <th>Any</th>\n",
       "      <th>Codi_Districte</th>\n",
       "      <th>Nom_Districte</th>\n",
       "      <th>Codi_Barri</th>\n",
       "      <th>Nom_Barri</th>\n",
       "      <th>Població</th>\n",
       "      <th>Índex RFD Barcelona = 100</th>\n",
       "    </tr>\n",
       "  </thead>\n",
       "  <tbody>\n",
       "    <tr>\n",
       "      <th>0</th>\n",
       "      <td>2015</td>\n",
       "      <td>1</td>\n",
       "      <td>Ciutat Vella</td>\n",
       "      <td>1</td>\n",
       "      <td>el Raval</td>\n",
       "      <td>47617</td>\n",
       "      <td>75.8</td>\n",
       "    </tr>\n",
       "    <tr>\n",
       "      <th>1</th>\n",
       "      <td>2015</td>\n",
       "      <td>1</td>\n",
       "      <td>Ciutat Vella</td>\n",
       "      <td>2</td>\n",
       "      <td>el Barri Gòtic</td>\n",
       "      <td>15269</td>\n",
       "      <td>108.5</td>\n",
       "    </tr>\n",
       "    <tr>\n",
       "      <th>2</th>\n",
       "      <td>2015</td>\n",
       "      <td>1</td>\n",
       "      <td>Ciutat Vella</td>\n",
       "      <td>3</td>\n",
       "      <td>la Barceloneta</td>\n",
       "      <td>15036</td>\n",
       "      <td>76.6</td>\n",
       "    </tr>\n",
       "    <tr>\n",
       "      <th>3</th>\n",
       "      <td>2015</td>\n",
       "      <td>1</td>\n",
       "      <td>Ciutat Vella</td>\n",
       "      <td>4</td>\n",
       "      <td>Sant Pere, Santa Caterina i la Ribera</td>\n",
       "      <td>22305</td>\n",
       "      <td>96.4</td>\n",
       "    </tr>\n",
       "    <tr>\n",
       "      <th>4</th>\n",
       "      <td>2015</td>\n",
       "      <td>2</td>\n",
       "      <td>Eixample</td>\n",
       "      <td>5</td>\n",
       "      <td>el Fort Pienc</td>\n",
       "      <td>31645</td>\n",
       "      <td>104.8</td>\n",
       "    </tr>\n",
       "  </tbody>\n",
       "</table>\n",
       "</div>"
      ],
      "text/plain": [
       "    Any  Codi_Districte Nom_Districte  Codi_Barri  \\\n",
       "0  2015               1  Ciutat Vella           1   \n",
       "1  2015               1  Ciutat Vella           2   \n",
       "2  2015               1  Ciutat Vella           3   \n",
       "3  2015               1  Ciutat Vella           4   \n",
       "4  2015               2      Eixample           5   \n",
       "\n",
       "                               Nom_Barri  Població Índex RFD Barcelona = 100  \n",
       "0                               el Raval     47617                      75.8  \n",
       "1                         el Barri Gòtic     15269                     108.5  \n",
       "2                         la Barceloneta     15036                      76.6  \n",
       "3  Sant Pere, Santa Caterina i la Ribera     22305                      96.4  \n",
       "4                          el Fort Pienc     31645                     104.8  "
      ]
     },
     "execution_count": 44,
     "metadata": {},
     "output_type": "execute_result"
    }
   ],
   "source": [
    "# \n",
    "url_2015 = \"https://opendata-ajuntament.barcelona.cat/data/dataset/79bdf758-dae1-485b-800c-be9f8cfa9360/resource/bb4de997-cdf9-43ad-98c6-cc3a3e4d4f07/download/2015_distribucio_territorial_renda_familiar.csv\"\n",
    "url_2016 = \"https://opendata-ajuntament.barcelona.cat/data/dataset/79bdf758-dae1-485b-800c-be9f8cfa9360/resource/1d9ff171-6f23-45c1-b02f-203b0589f08a/download/2016_distribucio_territorial_renda_familiar.csv\"\n",
    "data_2015 = pd.read_csv(url_2015)\n",
    "data_2016 = pd.read_csv(url_2016)\n",
    "data_2015.head()"
   ]
  },
  {
   "cell_type": "code",
   "execution_count": 51,
   "metadata": {
    "scrolled": true
   },
   "outputs": [
    {
     "data": {
      "text/html": [
       "<div>\n",
       "<style scoped>\n",
       "    .dataframe tbody tr th:only-of-type {\n",
       "        vertical-align: middle;\n",
       "    }\n",
       "\n",
       "    .dataframe tbody tr th {\n",
       "        vertical-align: top;\n",
       "    }\n",
       "\n",
       "    .dataframe thead tr th {\n",
       "        text-align: left;\n",
       "    }\n",
       "</style>\n",
       "<table border=\"1\" class=\"dataframe\">\n",
       "  <thead>\n",
       "    <tr>\n",
       "      <th></th>\n",
       "      <th colspan=\"6\" halign=\"left\">2015</th>\n",
       "      <th colspan=\"6\" halign=\"left\">2016</th>\n",
       "    </tr>\n",
       "    <tr>\n",
       "      <th></th>\n",
       "      <th>Any</th>\n",
       "      <th>Codi_Districte</th>\n",
       "      <th>Nom_Districte</th>\n",
       "      <th>Codi_Barri</th>\n",
       "      <th>Població</th>\n",
       "      <th>Índex RFD Barcelona = 100</th>\n",
       "      <th>Any</th>\n",
       "      <th>Codi_Districte</th>\n",
       "      <th>Nom_Districte</th>\n",
       "      <th>Codi_Barri</th>\n",
       "      <th>Població</th>\n",
       "      <th>Índex RFD Barcelona = 100</th>\n",
       "    </tr>\n",
       "  </thead>\n",
       "  <tbody>\n",
       "    <tr>\n",
       "      <th>el Raval</th>\n",
       "      <td>2015</td>\n",
       "      <td>1</td>\n",
       "      <td>Ciutat Vella</td>\n",
       "      <td>1</td>\n",
       "      <td>47617</td>\n",
       "      <td>75.8</td>\n",
       "      <td>2016.0</td>\n",
       "      <td>1.0</td>\n",
       "      <td>Ciutat Vella</td>\n",
       "      <td>1.0</td>\n",
       "      <td>47274.0</td>\n",
       "      <td>74.6</td>\n",
       "    </tr>\n",
       "    <tr>\n",
       "      <th>el Barri Gòtic</th>\n",
       "      <td>2015</td>\n",
       "      <td>1</td>\n",
       "      <td>Ciutat Vella</td>\n",
       "      <td>2</td>\n",
       "      <td>15269</td>\n",
       "      <td>108.5</td>\n",
       "      <td>2016.0</td>\n",
       "      <td>1.0</td>\n",
       "      <td>Ciutat Vella</td>\n",
       "      <td>2.0</td>\n",
       "      <td>15729.0</td>\n",
       "      <td>110.5</td>\n",
       "    </tr>\n",
       "    <tr>\n",
       "      <th>la Barceloneta</th>\n",
       "      <td>2015</td>\n",
       "      <td>1</td>\n",
       "      <td>Ciutat Vella</td>\n",
       "      <td>3</td>\n",
       "      <td>15036</td>\n",
       "      <td>76.6</td>\n",
       "      <td>2016.0</td>\n",
       "      <td>1.0</td>\n",
       "      <td>Ciutat Vella</td>\n",
       "      <td>3.0</td>\n",
       "      <td>15068.0</td>\n",
       "      <td>84.8</td>\n",
       "    </tr>\n",
       "    <tr>\n",
       "      <th>Sant Pere, Santa Caterina i la Ribera</th>\n",
       "      <td>2015</td>\n",
       "      <td>1</td>\n",
       "      <td>Ciutat Vella</td>\n",
       "      <td>4</td>\n",
       "      <td>22305</td>\n",
       "      <td>96.4</td>\n",
       "      <td>2016.0</td>\n",
       "      <td>1.0</td>\n",
       "      <td>Ciutat Vella</td>\n",
       "      <td>4.0</td>\n",
       "      <td>22380.0</td>\n",
       "      <td>97.8</td>\n",
       "    </tr>\n",
       "    <tr>\n",
       "      <th>el Fort Pienc</th>\n",
       "      <td>2015</td>\n",
       "      <td>2</td>\n",
       "      <td>Eixample</td>\n",
       "      <td>5</td>\n",
       "      <td>31645</td>\n",
       "      <td>104.8</td>\n",
       "      <td>2016.0</td>\n",
       "      <td>2.0</td>\n",
       "      <td>Eixample</td>\n",
       "      <td>5.0</td>\n",
       "      <td>31693.0</td>\n",
       "      <td>105.0</td>\n",
       "    </tr>\n",
       "  </tbody>\n",
       "</table>\n",
       "</div>"
      ],
      "text/plain": [
       "                                       2015                               \\\n",
       "                                        Any Codi_Districte Nom_Districte   \n",
       "el Raval                               2015              1  Ciutat Vella   \n",
       "el Barri Gòtic                         2015              1  Ciutat Vella   \n",
       "la Barceloneta                         2015              1  Ciutat Vella   \n",
       "Sant Pere, Santa Caterina i la Ribera  2015              1  Ciutat Vella   \n",
       "el Fort Pienc                          2015              2      Eixample   \n",
       "\n",
       "                                                           \\\n",
       "                                      Codi_Barri Població   \n",
       "el Raval                                       1    47617   \n",
       "el Barri Gòtic                                 2    15269   \n",
       "la Barceloneta                                 3    15036   \n",
       "Sant Pere, Santa Caterina i la Ribera          4    22305   \n",
       "el Fort Pienc                                  5    31645   \n",
       "\n",
       "                                                                   2016  \\\n",
       "                                      Índex RFD Barcelona = 100     Any   \n",
       "el Raval                                                   75.8  2016.0   \n",
       "el Barri Gòtic                                            108.5  2016.0   \n",
       "la Barceloneta                                             76.6  2016.0   \n",
       "Sant Pere, Santa Caterina i la Ribera                      96.4  2016.0   \n",
       "el Fort Pienc                                             104.8  2016.0   \n",
       "\n",
       "                                                                               \\\n",
       "                                      Codi_Districte Nom_Districte Codi_Barri   \n",
       "el Raval                                         1.0  Ciutat Vella        1.0   \n",
       "el Barri Gòtic                                   1.0  Ciutat Vella        2.0   \n",
       "la Barceloneta                                   1.0  Ciutat Vella        3.0   \n",
       "Sant Pere, Santa Caterina i la Ribera            1.0  Ciutat Vella        4.0   \n",
       "el Fort Pienc                                    2.0      Eixample        5.0   \n",
       "\n",
       "                                                                          \n",
       "                                      Població Índex RFD Barcelona = 100  \n",
       "el Raval                               47274.0                      74.6  \n",
       "el Barri Gòtic                         15729.0                     110.5  \n",
       "la Barceloneta                         15068.0                      84.8  \n",
       "Sant Pere, Santa Caterina i la Ribera  22380.0                      97.8  \n",
       "el Fort Pienc                          31693.0                     105.0  "
      ]
     },
     "execution_count": 51,
     "metadata": {},
     "output_type": "execute_result"
    }
   ],
   "source": [
    "#create a new dataframe for both the 2015 and 2016 to find difference between the barrios. \n",
    "df_all = pd.concat([data_2015.set_index('Nom_Barri'), data_2016.set_index('Nom_Barri')], \n",
    "                   axis='columns', keys=['2015', '2016'], sort=False)\n",
    "df_all.head()"
   ]
  },
  {
   "cell_type": "code",
   "execution_count": 56,
   "metadata": {},
   "outputs": [
    {
     "data": {
      "text/html": [
       "<div>\n",
       "<style scoped>\n",
       "    .dataframe tbody tr th:only-of-type {\n",
       "        vertical-align: middle;\n",
       "    }\n",
       "\n",
       "    .dataframe tbody tr th {\n",
       "        vertical-align: top;\n",
       "    }\n",
       "\n",
       "    .dataframe thead tr th {\n",
       "        text-align: left;\n",
       "    }\n",
       "</style>\n",
       "<table border=\"1\" class=\"dataframe\">\n",
       "  <thead>\n",
       "    <tr>\n",
       "      <th></th>\n",
       "      <th colspan=\"6\" halign=\"left\">2015</th>\n",
       "      <th colspan=\"6\" halign=\"left\">2016</th>\n",
       "      <th>difference</th>\n",
       "    </tr>\n",
       "    <tr>\n",
       "      <th></th>\n",
       "      <th>Any</th>\n",
       "      <th>Codi_Districte</th>\n",
       "      <th>Nom_Districte</th>\n",
       "      <th>Codi_Barri</th>\n",
       "      <th>Població</th>\n",
       "      <th>Índex RFD Barcelona = 100</th>\n",
       "      <th>Any</th>\n",
       "      <th>Codi_Districte</th>\n",
       "      <th>Nom_Districte</th>\n",
       "      <th>Codi_Barri</th>\n",
       "      <th>Població</th>\n",
       "      <th>Índex RFD Barcelona = 100</th>\n",
       "      <th></th>\n",
       "    </tr>\n",
       "  </thead>\n",
       "  <tbody>\n",
       "    <tr>\n",
       "      <th>el Raval</th>\n",
       "      <td>2015</td>\n",
       "      <td>1</td>\n",
       "      <td>Ciutat Vella</td>\n",
       "      <td>1</td>\n",
       "      <td>47617</td>\n",
       "      <td>75.8</td>\n",
       "      <td>2016.0</td>\n",
       "      <td>1.0</td>\n",
       "      <td>Ciutat Vella</td>\n",
       "      <td>1.0</td>\n",
       "      <td>47274.0</td>\n",
       "      <td>74.6</td>\n",
       "      <td>343.0</td>\n",
       "    </tr>\n",
       "    <tr>\n",
       "      <th>el Barri Gòtic</th>\n",
       "      <td>2015</td>\n",
       "      <td>1</td>\n",
       "      <td>Ciutat Vella</td>\n",
       "      <td>2</td>\n",
       "      <td>15269</td>\n",
       "      <td>108.5</td>\n",
       "      <td>2016.0</td>\n",
       "      <td>1.0</td>\n",
       "      <td>Ciutat Vella</td>\n",
       "      <td>2.0</td>\n",
       "      <td>15729.0</td>\n",
       "      <td>110.5</td>\n",
       "      <td>-460.0</td>\n",
       "    </tr>\n",
       "    <tr>\n",
       "      <th>la Barceloneta</th>\n",
       "      <td>2015</td>\n",
       "      <td>1</td>\n",
       "      <td>Ciutat Vella</td>\n",
       "      <td>3</td>\n",
       "      <td>15036</td>\n",
       "      <td>76.6</td>\n",
       "      <td>2016.0</td>\n",
       "      <td>1.0</td>\n",
       "      <td>Ciutat Vella</td>\n",
       "      <td>3.0</td>\n",
       "      <td>15068.0</td>\n",
       "      <td>84.8</td>\n",
       "      <td>-32.0</td>\n",
       "    </tr>\n",
       "    <tr>\n",
       "      <th>Sant Pere, Santa Caterina i la Ribera</th>\n",
       "      <td>2015</td>\n",
       "      <td>1</td>\n",
       "      <td>Ciutat Vella</td>\n",
       "      <td>4</td>\n",
       "      <td>22305</td>\n",
       "      <td>96.4</td>\n",
       "      <td>2016.0</td>\n",
       "      <td>1.0</td>\n",
       "      <td>Ciutat Vella</td>\n",
       "      <td>4.0</td>\n",
       "      <td>22380.0</td>\n",
       "      <td>97.8</td>\n",
       "      <td>-75.0</td>\n",
       "    </tr>\n",
       "    <tr>\n",
       "      <th>el Fort Pienc</th>\n",
       "      <td>2015</td>\n",
       "      <td>2</td>\n",
       "      <td>Eixample</td>\n",
       "      <td>5</td>\n",
       "      <td>31645</td>\n",
       "      <td>104.8</td>\n",
       "      <td>2016.0</td>\n",
       "      <td>2.0</td>\n",
       "      <td>Eixample</td>\n",
       "      <td>5.0</td>\n",
       "      <td>31693.0</td>\n",
       "      <td>105.0</td>\n",
       "      <td>-48.0</td>\n",
       "    </tr>\n",
       "  </tbody>\n",
       "</table>\n",
       "</div>"
      ],
      "text/plain": [
       "                                       2015                               \\\n",
       "                                        Any Codi_Districte Nom_Districte   \n",
       "el Raval                               2015              1  Ciutat Vella   \n",
       "el Barri Gòtic                         2015              1  Ciutat Vella   \n",
       "la Barceloneta                         2015              1  Ciutat Vella   \n",
       "Sant Pere, Santa Caterina i la Ribera  2015              1  Ciutat Vella   \n",
       "el Fort Pienc                          2015              2      Eixample   \n",
       "\n",
       "                                                           \\\n",
       "                                      Codi_Barri Població   \n",
       "el Raval                                       1    47617   \n",
       "el Barri Gòtic                                 2    15269   \n",
       "la Barceloneta                                 3    15036   \n",
       "Sant Pere, Santa Caterina i la Ribera          4    22305   \n",
       "el Fort Pienc                                  5    31645   \n",
       "\n",
       "                                                                   2016  \\\n",
       "                                      Índex RFD Barcelona = 100     Any   \n",
       "el Raval                                                   75.8  2016.0   \n",
       "el Barri Gòtic                                            108.5  2016.0   \n",
       "la Barceloneta                                             76.6  2016.0   \n",
       "Sant Pere, Santa Caterina i la Ribera                      96.4  2016.0   \n",
       "el Fort Pienc                                             104.8  2016.0   \n",
       "\n",
       "                                                                               \\\n",
       "                                      Codi_Districte Nom_Districte Codi_Barri   \n",
       "el Raval                                         1.0  Ciutat Vella        1.0   \n",
       "el Barri Gòtic                                   1.0  Ciutat Vella        2.0   \n",
       "la Barceloneta                                   1.0  Ciutat Vella        3.0   \n",
       "Sant Pere, Santa Caterina i la Ribera            1.0  Ciutat Vella        4.0   \n",
       "el Fort Pienc                                    2.0      Eixample        5.0   \n",
       "\n",
       "                                                                          \\\n",
       "                                      Població Índex RFD Barcelona = 100   \n",
       "el Raval                               47274.0                      74.6   \n",
       "el Barri Gòtic                         15729.0                     110.5   \n",
       "la Barceloneta                         15068.0                      84.8   \n",
       "Sant Pere, Santa Caterina i la Ribera  22380.0                      97.8   \n",
       "el Fort Pienc                          31693.0                     105.0   \n",
       "\n",
       "                                      difference  \n",
       "                                                  \n",
       "el Raval                                   343.0  \n",
       "el Barri Gòtic                            -460.0  \n",
       "la Barceloneta                             -32.0  \n",
       "Sant Pere, Santa Caterina i la Ribera      -75.0  \n",
       "el Fort Pienc                              -48.0  "
      ]
     },
     "execution_count": 56,
     "metadata": {},
     "output_type": "execute_result"
    }
   ],
   "source": [
    "#compare the population by neighbourhood, adding a column for difference\n",
    "df_all['difference'] = df_all['2015']['Població'] - df_all['2016']['Població']\n",
    "df_all.head()"
   ]
  },
  {
   "cell_type": "code",
   "execution_count": 41,
   "metadata": {},
   "outputs": [
    {
     "data": {
      "text/plain": [
       "[343,\n",
       " -460,\n",
       " -32,\n",
       " -75,\n",
       " -48,\n",
       " -2,\n",
       " -371,\n",
       " -176,\n",
       " 35,\n",
       " 66,\n",
       " 113,\n",
       " -1,\n",
       " -23,\n",
       " 39,\n",
       " -103,\n",
       " -88,\n",
       " 150,\n",
       " 58,\n",
       " 110,\n",
       " -23,\n",
       " -101,\n",
       " -6,\n",
       " -196,\n",
       " 138,\n",
       " -250,\n",
       " -188,\n",
       " -169,\n",
       " 60,\n",
       " -67,\n",
       " 90,\n",
       " -86,\n",
       " -228,\n",
       " -87,\n",
       " -31,\n",
       " -103,\n",
       " 41,\n",
       " 121,\n",
       " 41,\n",
       " -135,\n",
       " -31,\n",
       " -74,\n",
       " -22,\n",
       " 27,\n",
       " -23,\n",
       " -31,\n",
       " 47,\n",
       " 51,\n",
       " 24,\n",
       " 21,\n",
       " 95,\n",
       " -3,\n",
       " 18,\n",
       " 103,\n",
       " 33,\n",
       " 101,\n",
       " -3,\n",
       " 162,\n",
       " -29,\n",
       " 61,\n",
       " -13,\n",
       " 310,\n",
       " 97,\n",
       " 13,\n",
       " -50,\n",
       " 85,\n",
       " -97,\n",
       " -85,\n",
       " -42,\n",
       " -103,\n",
       " 417,\n",
       " -272,\n",
       " -26,\n",
       " 5]"
      ]
     },
     "execution_count": 41,
     "metadata": {},
     "output_type": "execute_result"
    }
   ],
   "source": [
    "#another way of doing this, but returns only a list of the differences, without information regarding the neighbourhood\n",
    "[x1 - x2 for (x1, x2) in zip(inhabitants_per_neihborhood_15, inhabitants_per_neihborhood_16)]\n"
   ]
  },
  {
   "cell_type": "code",
   "execution_count": 60,
   "metadata": {},
   "outputs": [
    {
     "data": {
      "text/html": [
       "<div>\n",
       "<style scoped>\n",
       "    .dataframe tbody tr th:only-of-type {\n",
       "        vertical-align: middle;\n",
       "    }\n",
       "\n",
       "    .dataframe tbody tr th {\n",
       "        vertical-align: top;\n",
       "    }\n",
       "\n",
       "    .dataframe thead tr th {\n",
       "        text-align: left;\n",
       "    }\n",
       "</style>\n",
       "<table border=\"1\" class=\"dataframe\">\n",
       "  <thead>\n",
       "    <tr>\n",
       "      <th></th>\n",
       "      <th colspan=\"6\" halign=\"left\">2015</th>\n",
       "      <th colspan=\"6\" halign=\"left\">2016</th>\n",
       "      <th>difference</th>\n",
       "    </tr>\n",
       "    <tr>\n",
       "      <th></th>\n",
       "      <th>Any</th>\n",
       "      <th>Codi_Districte</th>\n",
       "      <th>Nom_Districte</th>\n",
       "      <th>Codi_Barri</th>\n",
       "      <th>Població</th>\n",
       "      <th>Índex RFD Barcelona = 100</th>\n",
       "      <th>Any</th>\n",
       "      <th>Codi_Districte</th>\n",
       "      <th>Nom_Districte</th>\n",
       "      <th>Codi_Barri</th>\n",
       "      <th>Població</th>\n",
       "      <th>Índex RFD Barcelona = 100</th>\n",
       "      <th></th>\n",
       "    </tr>\n",
       "  </thead>\n",
       "  <tbody>\n",
       "    <tr>\n",
       "      <th>el Raval</th>\n",
       "      <td>2015</td>\n",
       "      <td>1</td>\n",
       "      <td>Ciutat Vella</td>\n",
       "      <td>1</td>\n",
       "      <td>47617</td>\n",
       "      <td>75.8</td>\n",
       "      <td>2016.0</td>\n",
       "      <td>1.0</td>\n",
       "      <td>Ciutat Vella</td>\n",
       "      <td>1.0</td>\n",
       "      <td>47274.0</td>\n",
       "      <td>74.6</td>\n",
       "      <td>343.0</td>\n",
       "    </tr>\n",
       "    <tr>\n",
       "      <th>el Barri Gòtic</th>\n",
       "      <td>2015</td>\n",
       "      <td>1</td>\n",
       "      <td>Ciutat Vella</td>\n",
       "      <td>2</td>\n",
       "      <td>15269</td>\n",
       "      <td>108.5</td>\n",
       "      <td>2016.0</td>\n",
       "      <td>1.0</td>\n",
       "      <td>Ciutat Vella</td>\n",
       "      <td>2.0</td>\n",
       "      <td>15729.0</td>\n",
       "      <td>110.5</td>\n",
       "      <td>-460.0</td>\n",
       "    </tr>\n",
       "    <tr>\n",
       "      <th>la Barceloneta</th>\n",
       "      <td>2015</td>\n",
       "      <td>1</td>\n",
       "      <td>Ciutat Vella</td>\n",
       "      <td>3</td>\n",
       "      <td>15036</td>\n",
       "      <td>76.6</td>\n",
       "      <td>2016.0</td>\n",
       "      <td>1.0</td>\n",
       "      <td>Ciutat Vella</td>\n",
       "      <td>3.0</td>\n",
       "      <td>15068.0</td>\n",
       "      <td>84.8</td>\n",
       "      <td>-32.0</td>\n",
       "    </tr>\n",
       "    <tr>\n",
       "      <th>Sant Pere, Santa Caterina i la Ribera</th>\n",
       "      <td>2015</td>\n",
       "      <td>1</td>\n",
       "      <td>Ciutat Vella</td>\n",
       "      <td>4</td>\n",
       "      <td>22305</td>\n",
       "      <td>96.4</td>\n",
       "      <td>2016.0</td>\n",
       "      <td>1.0</td>\n",
       "      <td>Ciutat Vella</td>\n",
       "      <td>4.0</td>\n",
       "      <td>22380.0</td>\n",
       "      <td>97.8</td>\n",
       "      <td>-75.0</td>\n",
       "    </tr>\n",
       "    <tr>\n",
       "      <th>el Fort Pienc</th>\n",
       "      <td>2015</td>\n",
       "      <td>2</td>\n",
       "      <td>Eixample</td>\n",
       "      <td>5</td>\n",
       "      <td>31645</td>\n",
       "      <td>104.8</td>\n",
       "      <td>2016.0</td>\n",
       "      <td>2.0</td>\n",
       "      <td>Eixample</td>\n",
       "      <td>5.0</td>\n",
       "      <td>31693.0</td>\n",
       "      <td>105.0</td>\n",
       "      <td>-48.0</td>\n",
       "    </tr>\n",
       "  </tbody>\n",
       "</table>\n",
       "</div>"
      ],
      "text/plain": [
       "                                       2015                               \\\n",
       "                                        Any Codi_Districte Nom_Districte   \n",
       "el Raval                               2015              1  Ciutat Vella   \n",
       "el Barri Gòtic                         2015              1  Ciutat Vella   \n",
       "la Barceloneta                         2015              1  Ciutat Vella   \n",
       "Sant Pere, Santa Caterina i la Ribera  2015              1  Ciutat Vella   \n",
       "el Fort Pienc                          2015              2      Eixample   \n",
       "\n",
       "                                                           \\\n",
       "                                      Codi_Barri Població   \n",
       "el Raval                                       1    47617   \n",
       "el Barri Gòtic                                 2    15269   \n",
       "la Barceloneta                                 3    15036   \n",
       "Sant Pere, Santa Caterina i la Ribera          4    22305   \n",
       "el Fort Pienc                                  5    31645   \n",
       "\n",
       "                                                                   2016  \\\n",
       "                                      Índex RFD Barcelona = 100     Any   \n",
       "el Raval                                                   75.8  2016.0   \n",
       "el Barri Gòtic                                            108.5  2016.0   \n",
       "la Barceloneta                                             76.6  2016.0   \n",
       "Sant Pere, Santa Caterina i la Ribera                      96.4  2016.0   \n",
       "el Fort Pienc                                             104.8  2016.0   \n",
       "\n",
       "                                                                               \\\n",
       "                                      Codi_Districte Nom_Districte Codi_Barri   \n",
       "el Raval                                         1.0  Ciutat Vella        1.0   \n",
       "el Barri Gòtic                                   1.0  Ciutat Vella        2.0   \n",
       "la Barceloneta                                   1.0  Ciutat Vella        3.0   \n",
       "Sant Pere, Santa Caterina i la Ribera            1.0  Ciutat Vella        4.0   \n",
       "el Fort Pienc                                    2.0      Eixample        5.0   \n",
       "\n",
       "                                                                          \\\n",
       "                                      Població Índex RFD Barcelona = 100   \n",
       "el Raval                               47274.0                      74.6   \n",
       "el Barri Gòtic                         15729.0                     110.5   \n",
       "la Barceloneta                         15068.0                      84.8   \n",
       "Sant Pere, Santa Caterina i la Ribera  22380.0                      97.8   \n",
       "el Fort Pienc                          31693.0                     105.0   \n",
       "\n",
       "                                      difference  \n",
       "                                                  \n",
       "el Raval                                   343.0  \n",
       "el Barri Gòtic                            -460.0  \n",
       "la Barceloneta                             -32.0  \n",
       "Sant Pere, Santa Caterina i la Ribera      -75.0  \n",
       "el Fort Pienc                              -48.0  "
      ]
     },
     "execution_count": 60,
     "metadata": {},
     "output_type": "execute_result"
    }
   ],
   "source": [
    "df_all.head()"
   ]
  },
  {
   "cell_type": "code",
   "execution_count": 72,
   "metadata": {},
   "outputs": [
    {
     "data": {
      "text/html": [
       "<div>\n",
       "<style scoped>\n",
       "    .dataframe tbody tr th:only-of-type {\n",
       "        vertical-align: middle;\n",
       "    }\n",
       "\n",
       "    .dataframe tbody tr th {\n",
       "        vertical-align: top;\n",
       "    }\n",
       "\n",
       "    .dataframe thead th {\n",
       "        text-align: right;\n",
       "    }\n",
       "</style>\n",
       "<table border=\"1\" class=\"dataframe\">\n",
       "  <thead>\n",
       "    <tr style=\"text-align: right;\">\n",
       "      <th></th>\n",
       "      <th>Any</th>\n",
       "      <th>Codi_Districte</th>\n",
       "      <th>Nom_Districte</th>\n",
       "      <th>Codi_Barri</th>\n",
       "      <th>Nom_Barri</th>\n",
       "      <th>Població</th>\n",
       "      <th>Índex RFD Barcelona = 100</th>\n",
       "    </tr>\n",
       "  </thead>\n",
       "  <tbody>\n",
       "    <tr>\n",
       "      <th>0</th>\n",
       "      <td>2015</td>\n",
       "      <td>1</td>\n",
       "      <td>Ciutat Vella</td>\n",
       "      <td>1</td>\n",
       "      <td>el Raval</td>\n",
       "      <td>47617</td>\n",
       "      <td>75.8</td>\n",
       "    </tr>\n",
       "    <tr>\n",
       "      <th>1</th>\n",
       "      <td>2015</td>\n",
       "      <td>1</td>\n",
       "      <td>Ciutat Vella</td>\n",
       "      <td>2</td>\n",
       "      <td>el Barri Gòtic</td>\n",
       "      <td>15269</td>\n",
       "      <td>108.5</td>\n",
       "    </tr>\n",
       "    <tr>\n",
       "      <th>2</th>\n",
       "      <td>2015</td>\n",
       "      <td>1</td>\n",
       "      <td>Ciutat Vella</td>\n",
       "      <td>3</td>\n",
       "      <td>la Barceloneta</td>\n",
       "      <td>15036</td>\n",
       "      <td>76.6</td>\n",
       "    </tr>\n",
       "    <tr>\n",
       "      <th>3</th>\n",
       "      <td>2015</td>\n",
       "      <td>1</td>\n",
       "      <td>Ciutat Vella</td>\n",
       "      <td>4</td>\n",
       "      <td>Sant Pere, Santa Caterina i la Ribera</td>\n",
       "      <td>22305</td>\n",
       "      <td>96.4</td>\n",
       "    </tr>\n",
       "    <tr>\n",
       "      <th>4</th>\n",
       "      <td>2015</td>\n",
       "      <td>2</td>\n",
       "      <td>Eixample</td>\n",
       "      <td>5</td>\n",
       "      <td>el Fort Pienc</td>\n",
       "      <td>31645</td>\n",
       "      <td>104.8</td>\n",
       "    </tr>\n",
       "  </tbody>\n",
       "</table>\n",
       "</div>"
      ],
      "text/plain": [
       "    Any  Codi_Districte Nom_Districte  Codi_Barri  \\\n",
       "0  2015               1  Ciutat Vella           1   \n",
       "1  2015               1  Ciutat Vella           2   \n",
       "2  2015               1  Ciutat Vella           3   \n",
       "3  2015               1  Ciutat Vella           4   \n",
       "4  2015               2      Eixample           5   \n",
       "\n",
       "                               Nom_Barri  Població Índex RFD Barcelona = 100  \n",
       "0                               el Raval     47617                      75.8  \n",
       "1                         el Barri Gòtic     15269                     108.5  \n",
       "2                         la Barceloneta     15036                      76.6  \n",
       "3  Sant Pere, Santa Caterina i la Ribera     22305                      96.4  \n",
       "4                          el Fort Pienc     31645                     104.8  "
      ]
     },
     "execution_count": 72,
     "metadata": {},
     "output_type": "execute_result"
    }
   ],
   "source": [
    "data_2015.head()"
   ]
  },
  {
   "cell_type": "code",
   "execution_count": 114,
   "metadata": {},
   "outputs": [
    {
     "data": {
      "text/html": [
       "<div>\n",
       "<style scoped>\n",
       "    .dataframe tbody tr th:only-of-type {\n",
       "        vertical-align: middle;\n",
       "    }\n",
       "\n",
       "    .dataframe tbody tr th {\n",
       "        vertical-align: top;\n",
       "    }\n",
       "\n",
       "    .dataframe thead th {\n",
       "        text-align: right;\n",
       "    }\n",
       "</style>\n",
       "<table border=\"1\" class=\"dataframe\">\n",
       "  <thead>\n",
       "    <tr style=\"text-align: right;\">\n",
       "      <th></th>\n",
       "      <th>total_pop</th>\n",
       "    </tr>\n",
       "    <tr>\n",
       "      <th>Nom_Districte</th>\n",
       "      <th></th>\n",
       "    </tr>\n",
       "  </thead>\n",
       "  <tbody>\n",
       "    <tr>\n",
       "      <th>Ciutat Vella</th>\n",
       "      <td>100227</td>\n",
       "    </tr>\n",
       "    <tr>\n",
       "      <th>Eixample</th>\n",
       "      <td>263991</td>\n",
       "    </tr>\n",
       "    <tr>\n",
       "      <th>Gràcia</th>\n",
       "      <td>120676</td>\n",
       "    </tr>\n",
       "    <tr>\n",
       "      <th>Horta-Guinardó</th>\n",
       "      <td>167318</td>\n",
       "    </tr>\n",
       "    <tr>\n",
       "      <th>Les Corts</th>\n",
       "      <td>81694</td>\n",
       "    </tr>\n",
       "    <tr>\n",
       "      <th>No consta</th>\n",
       "      <td>1</td>\n",
       "    </tr>\n",
       "    <tr>\n",
       "      <th>Nou Barris</th>\n",
       "      <td>165404</td>\n",
       "    </tr>\n",
       "    <tr>\n",
       "      <th>Sant Andreu</th>\n",
       "      <td>147307</td>\n",
       "    </tr>\n",
       "    <tr>\n",
       "      <th>Sant Martí</th>\n",
       "      <td>234124</td>\n",
       "    </tr>\n",
       "    <tr>\n",
       "      <th>Sants-Montjuïc</th>\n",
       "      <td>181307</td>\n",
       "    </tr>\n",
       "    <tr>\n",
       "      <th>Sarrià-Sant Gervasi</th>\n",
       "      <td>147501</td>\n",
       "    </tr>\n",
       "  </tbody>\n",
       "</table>\n",
       "</div>"
      ],
      "text/plain": [
       "                     total_pop\n",
       "Nom_Districte                 \n",
       "Ciutat Vella            100227\n",
       "Eixample                263991\n",
       "Gràcia                  120676\n",
       "Horta-Guinardó          167318\n",
       "Les Corts                81694\n",
       "No consta                    1\n",
       "Nou Barris              165404\n",
       "Sant Andreu             147307\n",
       "Sant Martí              234124\n",
       "Sants-Montjuïc          181307\n",
       "Sarrià-Sant Gervasi     147501"
      ]
     },
     "execution_count": 114,
     "metadata": {},
     "output_type": "execute_result"
    }
   ],
   "source": [
    "#create new df where the barrios are grouped by district and population calculated per district (adding together barrios)\n",
    "data_2015_district = data_2015.groupby('Nom_Districte').agg(total_pop=('Població', sum))\n",
    "data_2016_district = data_2016.groupby('Nom_Districte').agg(total_pop=('Població', sum))\n",
    "\n",
    "#unstacked2015 = data_2015_district.unstack()\n",
    "#unstacked2016 = data_2016_district.unstack()\n",
    "data_2015_district\n",
    "#nblevels = data_2015_district.index.nlevels \n",
    "#nblevels"
   ]
  },
  {
   "cell_type": "code",
   "execution_count": 116,
   "metadata": {},
   "outputs": [
    {
     "data": {
      "text/html": [
       "<div>\n",
       "<style scoped>\n",
       "    .dataframe tbody tr th:only-of-type {\n",
       "        vertical-align: middle;\n",
       "    }\n",
       "\n",
       "    .dataframe tbody tr th {\n",
       "        vertical-align: top;\n",
       "    }\n",
       "\n",
       "    .dataframe thead tr th {\n",
       "        text-align: left;\n",
       "    }\n",
       "</style>\n",
       "<table border=\"1\" class=\"dataframe\">\n",
       "  <thead>\n",
       "    <tr>\n",
       "      <th></th>\n",
       "      <th>2015</th>\n",
       "      <th>2016</th>\n",
       "    </tr>\n",
       "    <tr>\n",
       "      <th></th>\n",
       "      <th>total_pop</th>\n",
       "      <th>total_pop</th>\n",
       "    </tr>\n",
       "  </thead>\n",
       "  <tbody>\n",
       "    <tr>\n",
       "      <th>Ciutat Vella</th>\n",
       "      <td>100227</td>\n",
       "      <td>100451.0</td>\n",
       "    </tr>\n",
       "    <tr>\n",
       "      <th>Eixample</th>\n",
       "      <td>263991</td>\n",
       "      <td>264487.0</td>\n",
       "    </tr>\n",
       "    <tr>\n",
       "      <th>Gràcia</th>\n",
       "      <td>120676</td>\n",
       "      <td>120907.0</td>\n",
       "    </tr>\n",
       "    <tr>\n",
       "      <th>Horta-Guinardó</th>\n",
       "      <td>167318</td>\n",
       "      <td>167571.0</td>\n",
       "    </tr>\n",
       "    <tr>\n",
       "      <th>Les Corts</th>\n",
       "      <td>81694</td>\n",
       "      <td>81708.0</td>\n",
       "    </tr>\n",
       "    <tr>\n",
       "      <th>No consta</th>\n",
       "      <td>1</td>\n",
       "      <td>NaN</td>\n",
       "    </tr>\n",
       "    <tr>\n",
       "      <th>Nou Barris</th>\n",
       "      <td>165404</td>\n",
       "      <td>164971.0</td>\n",
       "    </tr>\n",
       "    <tr>\n",
       "      <th>Sant Andreu</th>\n",
       "      <td>147307</td>\n",
       "      <td>146706.0</td>\n",
       "    </tr>\n",
       "    <tr>\n",
       "      <th>Sant Martí</th>\n",
       "      <td>234124</td>\n",
       "      <td>234292.0</td>\n",
       "    </tr>\n",
       "    <tr>\n",
       "      <th>Sants-Montjuïc</th>\n",
       "      <td>181307</td>\n",
       "      <td>181162.0</td>\n",
       "    </tr>\n",
       "    <tr>\n",
       "      <th>Sarrià-Sant Gervasi</th>\n",
       "      <td>147501</td>\n",
       "      <td>148172.0</td>\n",
       "    </tr>\n",
       "  </tbody>\n",
       "</table>\n",
       "</div>"
      ],
      "text/plain": [
       "                         2015      2016\n",
       "                    total_pop total_pop\n",
       "Ciutat Vella           100227  100451.0\n",
       "Eixample               263991  264487.0\n",
       "Gràcia                 120676  120907.0\n",
       "Horta-Guinardó         167318  167571.0\n",
       "Les Corts               81694   81708.0\n",
       "No consta                   1       NaN\n",
       "Nou Barris             165404  164971.0\n",
       "Sant Andreu            147307  146706.0\n",
       "Sant Martí             234124  234292.0\n",
       "Sants-Montjuïc         181307  181162.0\n",
       "Sarrià-Sant Gervasi    147501  148172.0"
      ]
     },
     "execution_count": 116,
     "metadata": {},
     "output_type": "execute_result"
    }
   ],
   "source": [
    "#create a new dataframe for both the 2015 and 2016 to find difference between the districts. \n",
    "#create a new dataframe for both the 2015 and 2016 to find difference between the barrios. \n",
    "df_all_district = pd.concat([data_2015_district, data_2016_district], \n",
    "                   axis='columns', keys=['2015', '2016'], sort=False)\n",
    "df_all_district"
   ]
  },
  {
   "cell_type": "code",
   "execution_count": 118,
   "metadata": {},
   "outputs": [
    {
     "data": {
      "text/html": [
       "<div>\n",
       "<style scoped>\n",
       "    .dataframe tbody tr th:only-of-type {\n",
       "        vertical-align: middle;\n",
       "    }\n",
       "\n",
       "    .dataframe tbody tr th {\n",
       "        vertical-align: top;\n",
       "    }\n",
       "\n",
       "    .dataframe thead tr th {\n",
       "        text-align: left;\n",
       "    }\n",
       "</style>\n",
       "<table border=\"1\" class=\"dataframe\">\n",
       "  <thead>\n",
       "    <tr>\n",
       "      <th></th>\n",
       "      <th>2015</th>\n",
       "      <th>2016</th>\n",
       "      <th>difference</th>\n",
       "    </tr>\n",
       "    <tr>\n",
       "      <th></th>\n",
       "      <th>total_pop</th>\n",
       "      <th>total_pop</th>\n",
       "      <th></th>\n",
       "    </tr>\n",
       "  </thead>\n",
       "  <tbody>\n",
       "    <tr>\n",
       "      <th>Ciutat Vella</th>\n",
       "      <td>100227</td>\n",
       "      <td>100451.0</td>\n",
       "      <td>-224.0</td>\n",
       "    </tr>\n",
       "    <tr>\n",
       "      <th>Eixample</th>\n",
       "      <td>263991</td>\n",
       "      <td>264487.0</td>\n",
       "      <td>-496.0</td>\n",
       "    </tr>\n",
       "    <tr>\n",
       "      <th>Gràcia</th>\n",
       "      <td>120676</td>\n",
       "      <td>120907.0</td>\n",
       "      <td>-231.0</td>\n",
       "    </tr>\n",
       "    <tr>\n",
       "      <th>Horta-Guinardó</th>\n",
       "      <td>167318</td>\n",
       "      <td>167571.0</td>\n",
       "      <td>-253.0</td>\n",
       "    </tr>\n",
       "    <tr>\n",
       "      <th>Les Corts</th>\n",
       "      <td>81694</td>\n",
       "      <td>81708.0</td>\n",
       "      <td>-14.0</td>\n",
       "    </tr>\n",
       "    <tr>\n",
       "      <th>No consta</th>\n",
       "      <td>1</td>\n",
       "      <td>NaN</td>\n",
       "      <td>NaN</td>\n",
       "    </tr>\n",
       "    <tr>\n",
       "      <th>Nou Barris</th>\n",
       "      <td>165404</td>\n",
       "      <td>164971.0</td>\n",
       "      <td>433.0</td>\n",
       "    </tr>\n",
       "    <tr>\n",
       "      <th>Sant Andreu</th>\n",
       "      <td>147307</td>\n",
       "      <td>146706.0</td>\n",
       "      <td>601.0</td>\n",
       "    </tr>\n",
       "    <tr>\n",
       "      <th>Sant Martí</th>\n",
       "      <td>234124</td>\n",
       "      <td>234292.0</td>\n",
       "      <td>-168.0</td>\n",
       "    </tr>\n",
       "    <tr>\n",
       "      <th>Sants-Montjuïc</th>\n",
       "      <td>181307</td>\n",
       "      <td>181162.0</td>\n",
       "      <td>145.0</td>\n",
       "    </tr>\n",
       "    <tr>\n",
       "      <th>Sarrià-Sant Gervasi</th>\n",
       "      <td>147501</td>\n",
       "      <td>148172.0</td>\n",
       "      <td>-671.0</td>\n",
       "    </tr>\n",
       "  </tbody>\n",
       "</table>\n",
       "</div>"
      ],
      "text/plain": [
       "                         2015      2016 difference\n",
       "                    total_pop total_pop           \n",
       "Ciutat Vella           100227  100451.0     -224.0\n",
       "Eixample               263991  264487.0     -496.0\n",
       "Gràcia                 120676  120907.0     -231.0\n",
       "Horta-Guinardó         167318  167571.0     -253.0\n",
       "Les Corts               81694   81708.0      -14.0\n",
       "No consta                   1       NaN        NaN\n",
       "Nou Barris             165404  164971.0      433.0\n",
       "Sant Andreu            147307  146706.0      601.0\n",
       "Sant Martí             234124  234292.0     -168.0\n",
       "Sants-Montjuïc         181307  181162.0      145.0\n",
       "Sarrià-Sant Gervasi    147501  148172.0     -671.0"
      ]
     },
     "execution_count": 118,
     "metadata": {},
     "output_type": "execute_result"
    }
   ],
   "source": [
    "#compare the population by district \n",
    "df_all_district['difference'] = df_all_district['2015']['total_pop'] - df_all_district['2016']['total_pop']\n",
    "df_all_district"
   ]
  },
  {
   "cell_type": "code",
   "execution_count": 187,
   "metadata": {},
   "outputs": [
    {
     "data": {
      "text/html": [
       "<div>\n",
       "<style scoped>\n",
       "    .dataframe tbody tr th:only-of-type {\n",
       "        vertical-align: middle;\n",
       "    }\n",
       "\n",
       "    .dataframe tbody tr th {\n",
       "        vertical-align: top;\n",
       "    }\n",
       "\n",
       "    .dataframe thead th {\n",
       "        text-align: right;\n",
       "    }\n",
       "</style>\n",
       "<table border=\"1\" class=\"dataframe\">\n",
       "  <thead>\n",
       "    <tr style=\"text-align: right;\">\n",
       "      <th></th>\n",
       "      <th>total_pop</th>\n",
       "    </tr>\n",
       "  </thead>\n",
       "  <tbody>\n",
       "    <tr>\n",
       "      <th>Ciutat Vella</th>\n",
       "      <td>100227</td>\n",
       "    </tr>\n",
       "    <tr>\n",
       "      <th>Eixample</th>\n",
       "      <td>263991</td>\n",
       "    </tr>\n",
       "    <tr>\n",
       "      <th>Gràcia</th>\n",
       "      <td>120676</td>\n",
       "    </tr>\n",
       "    <tr>\n",
       "      <th>Horta-Guinardó</th>\n",
       "      <td>167318</td>\n",
       "    </tr>\n",
       "    <tr>\n",
       "      <th>Les Corts</th>\n",
       "      <td>81694</td>\n",
       "    </tr>\n",
       "  </tbody>\n",
       "</table>\n",
       "</div>"
      ],
      "text/plain": [
       "                total_pop\n",
       "Ciutat Vella       100227\n",
       "Eixample           263991\n",
       "Gràcia             120676\n",
       "Horta-Guinardó     167318\n",
       "Les Corts           81694"
      ]
     },
     "execution_count": 187,
     "metadata": {},
     "output_type": "execute_result"
    }
   ],
   "source": [
    "new_2015_district = df_all_district.dropna()['2015']\n",
    "new_2015_district.head()\n"
   ]
  },
  {
   "cell_type": "code",
   "execution_count": 188,
   "metadata": {},
   "outputs": [
    {
     "data": {
      "text/html": [
       "<div>\n",
       "<style scoped>\n",
       "    .dataframe tbody tr th:only-of-type {\n",
       "        vertical-align: middle;\n",
       "    }\n",
       "\n",
       "    .dataframe tbody tr th {\n",
       "        vertical-align: top;\n",
       "    }\n",
       "\n",
       "    .dataframe thead th {\n",
       "        text-align: right;\n",
       "    }\n",
       "</style>\n",
       "<table border=\"1\" class=\"dataframe\">\n",
       "  <thead>\n",
       "    <tr style=\"text-align: right;\">\n",
       "      <th></th>\n",
       "      <th>total_pop</th>\n",
       "    </tr>\n",
       "  </thead>\n",
       "  <tbody>\n",
       "    <tr>\n",
       "      <th>Ciutat Vella</th>\n",
       "      <td>100451.0</td>\n",
       "    </tr>\n",
       "    <tr>\n",
       "      <th>Eixample</th>\n",
       "      <td>264487.0</td>\n",
       "    </tr>\n",
       "    <tr>\n",
       "      <th>Gràcia</th>\n",
       "      <td>120907.0</td>\n",
       "    </tr>\n",
       "    <tr>\n",
       "      <th>Horta-Guinardó</th>\n",
       "      <td>167571.0</td>\n",
       "    </tr>\n",
       "    <tr>\n",
       "      <th>Les Corts</th>\n",
       "      <td>81708.0</td>\n",
       "    </tr>\n",
       "  </tbody>\n",
       "</table>\n",
       "</div>"
      ],
      "text/plain": [
       "                total_pop\n",
       "Ciutat Vella     100451.0\n",
       "Eixample         264487.0\n",
       "Gràcia           120907.0\n",
       "Horta-Guinardó   167571.0\n",
       "Les Corts         81708.0"
      ]
     },
     "execution_count": 188,
     "metadata": {},
     "output_type": "execute_result"
    }
   ],
   "source": [
    "new_2016_district = df_all_district.dropna()['2016']\n",
    "new_2016_district.head()\n",
    "\n"
   ]
  },
  {
   "cell_type": "code",
   "execution_count": 24,
   "metadata": {},
   "outputs": [],
   "source": [
    "#Exercise 2. Can you compare now the distributions of the number of inhabitants in 2015 when considering \n",
    "#the population per neighborhood vs considering the population per district? Show the difference in two \n",
    "#histograms and provide the variances for each set.\n"
   ]
  },
  {
   "cell_type": "code",
   "execution_count": 222,
   "metadata": {},
   "outputs": [
    {
     "data": {
      "text/plain": [
       "<matplotlib.axes._subplots.AxesSubplot at 0x12b8757d0>"
      ]
     },
     "execution_count": 222,
     "metadata": {},
     "output_type": "execute_result"
    },
    {
     "data": {
      "image/png": "[encoded data removed]",
      "text/plain": [
       "<Figure size 432x288 with 1 Axes>"
      ]
     },
     "metadata": {
      "needs_background": "light"
     },
     "output_type": "display_data"
    }
   ],
   "source": [
    "#plt.legend()\n",
    "sns.distplot(new_2015)\n",
    "#sns.distplot(inhabitants_per_district_16)\n",
    "\n"
   ]
  },
  {
   "cell_type": "code",
   "execution_count": 224,
   "metadata": {},
   "outputs": [
    {
     "data": {
      "text/html": [
       "<div>\n",
       "<style scoped>\n",
       "    .dataframe tbody tr th:only-of-type {\n",
       "        vertical-align: middle;\n",
       "    }\n",
       "\n",
       "    .dataframe tbody tr th {\n",
       "        vertical-align: top;\n",
       "    }\n",
       "\n",
       "    .dataframe thead th {\n",
       "        text-align: right;\n",
       "    }\n",
       "</style>\n",
       "<table border=\"1\" class=\"dataframe\">\n",
       "  <thead>\n",
       "    <tr style=\"text-align: right;\">\n",
       "      <th></th>\n",
       "      <th>Any</th>\n",
       "      <th>Codi_Districte</th>\n",
       "      <th>Nom_Districte</th>\n",
       "      <th>Codi_Barri</th>\n",
       "      <th>Població</th>\n",
       "      <th>Índex RFD Barcelona = 100</th>\n",
       "    </tr>\n",
       "  </thead>\n",
       "  <tbody>\n",
       "    <tr>\n",
       "      <th>el Raval</th>\n",
       "      <td>2015</td>\n",
       "      <td>1</td>\n",
       "      <td>Ciutat Vella</td>\n",
       "      <td>1</td>\n",
       "      <td>47617</td>\n",
       "      <td>75.8</td>\n",
       "    </tr>\n",
       "    <tr>\n",
       "      <th>el Barri Gòtic</th>\n",
       "      <td>2015</td>\n",
       "      <td>1</td>\n",
       "      <td>Ciutat Vella</td>\n",
       "      <td>2</td>\n",
       "      <td>15269</td>\n",
       "      <td>108.5</td>\n",
       "    </tr>\n",
       "    <tr>\n",
       "      <th>la Barceloneta</th>\n",
       "      <td>2015</td>\n",
       "      <td>1</td>\n",
       "      <td>Ciutat Vella</td>\n",
       "      <td>3</td>\n",
       "      <td>15036</td>\n",
       "      <td>76.6</td>\n",
       "    </tr>\n",
       "    <tr>\n",
       "      <th>Sant Pere, Santa Caterina i la Ribera</th>\n",
       "      <td>2015</td>\n",
       "      <td>1</td>\n",
       "      <td>Ciutat Vella</td>\n",
       "      <td>4</td>\n",
       "      <td>22305</td>\n",
       "      <td>96.4</td>\n",
       "    </tr>\n",
       "    <tr>\n",
       "      <th>el Fort Pienc</th>\n",
       "      <td>2015</td>\n",
       "      <td>2</td>\n",
       "      <td>Eixample</td>\n",
       "      <td>5</td>\n",
       "      <td>31645</td>\n",
       "      <td>104.8</td>\n",
       "    </tr>\n",
       "  </tbody>\n",
       "</table>\n",
       "</div>"
      ],
      "text/plain": [
       "                                        Any  Codi_Districte Nom_Districte  \\\n",
       "el Raval                               2015               1  Ciutat Vella   \n",
       "el Barri Gòtic                         2015               1  Ciutat Vella   \n",
       "la Barceloneta                         2015               1  Ciutat Vella   \n",
       "Sant Pere, Santa Caterina i la Ribera  2015               1  Ciutat Vella   \n",
       "el Fort Pienc                          2015               2      Eixample   \n",
       "\n",
       "                                       Codi_Barri  Població  \\\n",
       "el Raval                                        1     47617   \n",
       "el Barri Gòtic                                  2     15269   \n",
       "la Barceloneta                                  3     15036   \n",
       "Sant Pere, Santa Caterina i la Ribera           4     22305   \n",
       "el Fort Pienc                                   5     31645   \n",
       "\n",
       "                                      Índex RFD Barcelona = 100  \n",
       "el Raval                                                   75.8  \n",
       "el Barri Gòtic                                            108.5  \n",
       "la Barceloneta                                             76.6  \n",
       "Sant Pere, Santa Caterina i la Ribera                      96.4  \n",
       "el Fort Pienc                                             104.8  "
      ]
     },
     "execution_count": 224,
     "metadata": {},
     "output_type": "execute_result"
    }
   ],
   "source": [
    "#Neighbourhood data revisited\n",
    "#df_all.head()\n",
    "new_2015_beighbourhood = df_all.dropna()['2015']\n",
    "new_2015_beighbourhood.head()\n",
    "#new_2016_beighbourhood = df_all.dropna()['2016']\n",
    "#new_2016_beighbourhood.head()"
   ]
  },
  {
   "cell_type": "code",
   "execution_count": 195,
   "metadata": {
    "scrolled": true
   },
   "outputs": [
    {
     "data": {
      "text/plain": [
       "<matplotlib.axes._subplots.AxesSubplot at 0x12ac96650>"
      ]
     },
     "execution_count": 195,
     "metadata": {},
     "output_type": "execute_result"
    },
    {
     "data": {
      "image/png": "[encoded data removed]",
      "text/plain": [
       "<Figure size 432x288 with 1 Axes>"
      ]
     },
     "metadata": {
      "needs_background": "light"
     },
     "output_type": "display_data"
    }
   ],
   "source": [
    "sns.distplot(new_2015_beighbourhood['Població'])"
   ]
  },
  {
   "cell_type": "code",
   "execution_count": 225,
   "metadata": {},
   "outputs": [
    {
     "data": {
      "text/plain": [
       "total_pop    2.840448e+09\n",
       "dtype: float64"
      ]
     },
     "execution_count": 225,
     "metadata": {},
     "output_type": "execute_result"
    }
   ],
   "source": [
    "#vraiance per district, 2015\n",
    "np.var(new_2015_district)\n",
    "\n"
   ]
  },
  {
   "cell_type": "code",
   "execution_count": 226,
   "metadata": {},
   "outputs": [
    {
     "data": {
      "text/plain": [
       "<matplotlib.axes._subplots.AxesSubplot at 0x12ae0b890>"
      ]
     },
     "execution_count": 226,
     "metadata": {},
     "output_type": "execute_result"
    },
    {
     "data": {
      "image/png": "[encoded data removed]",
      "text/plain": [
       "<Figure size 432x288 with 1 Axes>"
      ]
     },
     "metadata": {
      "needs_background": "light"
     },
     "output_type": "display_data"
    }
   ],
   "source": [
    "sns.distplot(inhabitants_per_neihborhood_15)\n",
    "#sns.distplot(inhabitants_per_neihborhood_16)"
   ]
  },
  {
   "cell_type": "code",
   "execution_count": 227,
   "metadata": {
    "scrolled": true
   },
   "outputs": [
    {
     "data": {
      "text/plain": [
       "208488986.07205856"
      ]
     },
     "execution_count": 227,
     "metadata": {},
     "output_type": "execute_result"
    }
   ],
   "source": [
    "#vraiance per neighborhood, 2015\n",
    "\n",
    "np.var(new_2015_beighbourhood['Població']) \n"
   ]
  },
  {
   "cell_type": "code",
   "execution_count": 228,
   "metadata": {},
   "outputs": [
    {
     "data": {
      "text/plain": [
       "total_pop    2.631959e+09\n",
       "dtype: float64"
      ]
     },
     "execution_count": 228,
     "metadata": {},
     "output_type": "execute_result"
    }
   ],
   "source": [
    "# Discuss the results observed\n",
    "#compare the variance between neighbourhood and district\n",
    "\n",
    "np.var(new_2015_district) - np.var(new_2015_beighbourhood['Població']) \n",
    "\n",
    "#Variance for the populations per district is bigger, suggesting that the population in Barcelona distributes more equally \n",
    "#between districts than neighbourhoods"
   ]
  },
  {
   "cell_type": "code",
   "execution_count": null,
   "metadata": {},
   "outputs": [],
   "source": [
    "#Exercise 3. Could you give us the values of the Q1, median and Q3 from the list of values of the number of inhabitants per neighborhood in 2015? \n",
    "#Can you see differences on the distributions between 2015 and 2016 in a boxplot?\n"
   ]
  },
  {
   "cell_type": "code",
   "execution_count": 231,
   "metadata": {},
   "outputs": [
    {
     "data": {
      "text/plain": [
       "<matplotlib.axes._subplots.AxesSubplot at 0x12c2c26d0>"
      ]
     },
     "execution_count": 231,
     "metadata": {},
     "output_type": "execute_result"
    },
    {
     "data": {
      "image/png": "[encoded data removed]",
      "text/plain": [
       "<Figure size 432x288 with 1 Axes>"
      ]
     },
     "metadata": {
      "needs_background": "light"
     },
     "output_type": "display_data"
    }
   ],
   "source": [
    "#Show boxplot for 2015\n",
    "sns.boxplot(df_all_district['2015'])"
   ]
  },
  {
   "cell_type": "code",
   "execution_count": 213,
   "metadata": {
    "scrolled": true
   },
   "outputs": [
    {
     "data": {
      "text/plain": [
       "Ciutat Vella           100227.0\n",
       "Eixample               263991.0\n",
       "Gràcia                 120676.0\n",
       "Horta-Guinardó         167318.0\n",
       "Les Corts               81694.0\n",
       "No consta                   1.0\n",
       "Nou Barris             165404.0\n",
       "Sant Andreu            147307.0\n",
       "Sant Martí             234124.0\n",
       "Sants-Montjuïc         181307.0\n",
       "Sarrià-Sant Gervasi    147501.0\n",
       "dtype: float64"
      ]
     },
     "execution_count": 213,
     "metadata": {},
     "output_type": "execute_result"
    }
   ],
   "source": [
    "#What are, approximately, the values of Q1, median and Q3?\n",
    "df_all_district['2015'].median(axis = 1, skipna = True) "
   ]
  },
  {
   "cell_type": "code",
   "execution_count": 233,
   "metadata": {},
   "outputs": [
    {
     "data": {
      "text/plain": [
       "array([110451.5])"
      ]
     },
     "execution_count": 233,
     "metadata": {},
     "output_type": "execute_result"
    }
   ],
   "source": [
    "Q1_2015 = np.percentile(df_all_district['2015'], [25])\n",
    "Q1_2015"
   ]
  },
  {
   "cell_type": "code",
   "execution_count": 241,
   "metadata": {},
   "outputs": [
    {
     "data": {
      "text/plain": [
       "array([174312.5])"
      ]
     },
     "execution_count": 241,
     "metadata": {},
     "output_type": "execute_result"
    }
   ],
   "source": [
    "Q3_2015 = np.percentile(df_all_district['2015'], [75])\n",
    "Q3_2015"
   ]
  },
  {
   "cell_type": "code",
   "execution_count": 240,
   "metadata": {},
   "outputs": [
    {
     "data": {
      "text/plain": [
       "<matplotlib.axes._subplots.AxesSubplot at 0x12c4223d0>"
      ]
     },
     "execution_count": 240,
     "metadata": {},
     "output_type": "execute_result"
    },
    {
     "data": {
      "image/png": "[encoded data removed]",
      "text/plain": [
       "<Figure size 432x288 with 1 Axes>"
      ]
     },
     "metadata": {
      "needs_background": "light"
     },
     "output_type": "display_data"
    }
   ],
   "source": [
    "#Show boxplot for 2016\n",
    "sns.boxplot(df_all_district['2016'])"
   ]
  },
  {
   "cell_type": "code",
   "execution_count": 236,
   "metadata": {},
   "outputs": [
    {
     "name": "stderr",
     "output_type": "stream",
     "text": [
      "/usr/local/lib/python3.7/site-packages/numpy/lib/nanfunctions.py:1115: RuntimeWarning: All-NaN slice encountered\n",
      "  overwrite_input=overwrite_input)\n"
     ]
    },
    {
     "data": {
      "text/plain": [
       "Ciutat Vella           100451.0\n",
       "Eixample               264487.0\n",
       "Gràcia                 120907.0\n",
       "Horta-Guinardó         167571.0\n",
       "Les Corts               81708.0\n",
       "No consta                   NaN\n",
       "Nou Barris             164971.0\n",
       "Sant Andreu            146706.0\n",
       "Sant Martí             234292.0\n",
       "Sants-Montjuïc         181162.0\n",
       "Sarrià-Sant Gervasi    148172.0\n",
       "dtype: float64"
      ]
     },
     "execution_count": 236,
     "metadata": {},
     "output_type": "execute_result"
    }
   ],
   "source": [
    "#What are, approximately, the values of Q1, median and Q3?\n",
    "df_all_district['2016'].median(axis = 1, skipna = True) "
   ]
  },
  {
   "cell_type": "code",
   "execution_count": 238,
   "metadata": {},
   "outputs": [
    {
     "data": {
      "text/plain": [
       "array([127356.75])"
      ]
     },
     "execution_count": 238,
     "metadata": {},
     "output_type": "execute_result"
    }
   ],
   "source": [
    "Q1_2016 = np.nanpercentile(df_all_district['2016'], [25])\n",
    "Q1_2016"
   ]
  },
  {
   "cell_type": "code",
   "execution_count": 239,
   "metadata": {},
   "outputs": [
    {
     "data": {
      "text/plain": [
       "array([177764.25])"
      ]
     },
     "execution_count": 239,
     "metadata": {},
     "output_type": "execute_result"
    }
   ],
   "source": [
    "Q3_2016 = np.nanpercentile(df_all_district['2016'], [75])\n",
    "Q3_2016"
   ]
  },
  {
   "cell_type": "code",
   "execution_count": null,
   "metadata": {},
   "outputs": [],
   "source": [
    "#2015: Q1 array([110451.5]),  Q3 array([174312.5])\n",
    "#2016: Q1 array([127356.75]), Q3 array([177764.25])\n",
    "#Difference between Q3: 3451.75 and Q1: 16905.25"
   ]
  }
 ],
 "metadata": {
  "kernelspec": {
   "display_name": "Python 3",
   "language": "python",
   "name": "python3"
  },
  "language_info": {
   "codemirror_mode": {
    "name": "ipython",
    "version": 3
   },
   "file_extension": ".py",
   "mimetype": "text/x-python",
   "name": "python",
   "nbconvert_exporter": "python",
   "pygments_lexer": "ipython3",
   "version": "3.7.4"
  }
 },
 "nbformat": 4,
 "nbformat_minor": 2
}
